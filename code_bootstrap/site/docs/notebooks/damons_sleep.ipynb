{
 "cells": [
  {
   "cell_type": "markdown",
   "id": "853a77f9",
   "metadata": {},
   "source": [
    "# Analyzing Oura Sleep Data"
   ]
  },
  {
   "cell_type": "markdown",
   "id": "bdc902c6",
   "metadata": {},
   "source": [
    "I woke up feeling pretty refreshed yesterday for the first time in a while. I wear an Oura ring to monitor my sleep, but of course I wanted to extract and graph the data myself. 😁 🤓\n",
    "\n",
    "I'm now averaging the most sleep per night since my daughter was born last year. 😅\n",
    "\n",
    "You can see a short video of how I made this in EMR Studio using a combination of my own personal #docker data extractors and a fun charting library I found for Python called cutecharts. https://youtu.be/aU6b70BTYUY\n",
    "\n",
    "_note: I replaced cutecharts with Plotly in this notebook so it would render in HTML_"
   ]
  },
  {
   "cell_type": "markdown",
   "id": "209c1450",
   "metadata": {},
   "source": [
    "## Define a Docker extension"
   ]
  },
  {
   "cell_type": "code",
   "execution_count": 3,
   "id": "3a78f9a6",
   "metadata": {},
   "outputs": [],
   "source": [
    "import subprocess\n",
    "from io import StringIO\n",
    "\n",
    "from IPython.core.magic import (register_line_magic, register_cell_magic)\n",
    "import pandas as pd\n",
    "\n",
    "def docker_pull(image):\n",
    "    subprocess.call(\"docker pull f{image}\", shell=True)\n",
    "\n",
    "def docker_run(args):\n",
    "    result = subprocess.run([\"docker\", \"run\", \"--rm\"] + args, capture_output=True)\n",
    "    return result.stdout\n",
    "\n",
    "def read_from_docker(docker_args, image_args):\n",
    "    result = docker_run(docker_args + image_args)\n",
    "    return pd.read_json(result, lines=True)\n",
    "\n",
    "@register_cell_magic\n",
    "def docker_data(line, cell):\n",
    "    \"\"\"\n",
    "    line is the image and args to be used. Provided independently so we can always docker pull it\n",
    "    cell is the arguments to be provided to docker run\n",
    "    \"\"\"\n",
    "    image_args = line.split(\" \")\n",
    "    docker_args = StringIO(cell).getvalue().split()\n",
    "    return read_from_docker(docker_args, image_args)"
   ]
  },
  {
   "cell_type": "code",
   "execution_count": 4,
   "id": "285fec8e",
   "metadata": {},
   "outputs": [
    {
     "data": {
      "text/html": [
       "<div>\n",
       "<style scoped>\n",
       "    .dataframe tbody tr th:only-of-type {\n",
       "        vertical-align: middle;\n",
       "    }\n",
       "\n",
       "    .dataframe tbody tr th {\n",
       "        vertical-align: top;\n",
       "    }\n",
       "\n",
       "    .dataframe thead th {\n",
       "        text-align: right;\n",
       "    }\n",
       "</style>\n",
       "<table border=\"1\" class=\"dataframe\">\n",
       "  <thead>\n",
       "    <tr style=\"text-align: right;\">\n",
       "      <th></th>\n",
       "      <th>summary_date</th>\n",
       "      <th>period_id</th>\n",
       "      <th>is_longest</th>\n",
       "      <th>timezone</th>\n",
       "      <th>bedtime_end</th>\n",
       "      <th>bedtime_start</th>\n",
       "      <th>breath_average</th>\n",
       "      <th>duration</th>\n",
       "      <th>total</th>\n",
       "      <th>awake</th>\n",
       "      <th>...</th>\n",
       "      <th>score_total</th>\n",
       "      <th>temperature_deviation</th>\n",
       "      <th>temperature_trend_deviation</th>\n",
       "      <th>bedtime_start_delta</th>\n",
       "      <th>bedtime_end_delta</th>\n",
       "      <th>midpoint_at_delta</th>\n",
       "      <th>temperature_delta</th>\n",
       "      <th>hr_lowest</th>\n",
       "      <th>hr_average</th>\n",
       "      <th>activity_type</th>\n",
       "    </tr>\n",
       "  </thead>\n",
       "  <tbody>\n",
       "    <tr>\n",
       "      <th>0</th>\n",
       "      <td>2020-07-01</td>\n",
       "      <td>0</td>\n",
       "      <td>1</td>\n",
       "      <td>-420</td>\n",
       "      <td>2020-07-02T07:37:03-07:00</td>\n",
       "      <td>2020-07-02T00:04:03-07:00</td>\n",
       "      <td>15.375</td>\n",
       "      <td>27180</td>\n",
       "      <td>23310</td>\n",
       "      <td>3870</td>\n",
       "      <td>...</td>\n",
       "      <td>70</td>\n",
       "      <td>-0.16</td>\n",
       "      <td>-0.04</td>\n",
       "      <td>243</td>\n",
       "      <td>27423</td>\n",
       "      <td>13113</td>\n",
       "      <td>-0.16</td>\n",
       "      <td>55</td>\n",
       "      <td>59.24</td>\n",
       "      <td>sleep</td>\n",
       "    </tr>\n",
       "    <tr>\n",
       "      <th>1</th>\n",
       "      <td>2020-07-02</td>\n",
       "      <td>0</td>\n",
       "      <td>1</td>\n",
       "      <td>-420</td>\n",
       "      <td>2020-07-03T08:17:02-07:00</td>\n",
       "      <td>2020-07-03T00:24:02-07:00</td>\n",
       "      <td>15.375</td>\n",
       "      <td>28380</td>\n",
       "      <td>23910</td>\n",
       "      <td>4470</td>\n",
       "      <td>...</td>\n",
       "      <td>72</td>\n",
       "      <td>0.21</td>\n",
       "      <td>0.08</td>\n",
       "      <td>1442</td>\n",
       "      <td>29822</td>\n",
       "      <td>14432</td>\n",
       "      <td>0.21</td>\n",
       "      <td>57</td>\n",
       "      <td>63.63</td>\n",
       "      <td>sleep</td>\n",
       "    </tr>\n",
       "    <tr>\n",
       "      <th>2</th>\n",
       "      <td>2020-07-03</td>\n",
       "      <td>0</td>\n",
       "      <td>1</td>\n",
       "      <td>-420</td>\n",
       "      <td>2020-07-04T08:27:29-07:00</td>\n",
       "      <td>2020-07-03T23:32:29-07:00</td>\n",
       "      <td>16.125</td>\n",
       "      <td>32100</td>\n",
       "      <td>30240</td>\n",
       "      <td>1860</td>\n",
       "      <td>...</td>\n",
       "      <td>96</td>\n",
       "      <td>-0.17</td>\n",
       "      <td>0.08</td>\n",
       "      <td>-1651</td>\n",
       "      <td>30449</td>\n",
       "      <td>14099</td>\n",
       "      <td>-0.17</td>\n",
       "      <td>55</td>\n",
       "      <td>61.42</td>\n",
       "      <td>sleep</td>\n",
       "    </tr>\n",
       "    <tr>\n",
       "      <th>3</th>\n",
       "      <td>2020-07-04</td>\n",
       "      <td>0</td>\n",
       "      <td>1</td>\n",
       "      <td>-420</td>\n",
       "      <td>2020-07-05T08:19:59-07:00</td>\n",
       "      <td>2020-07-04T23:40:59-07:00</td>\n",
       "      <td>16.375</td>\n",
       "      <td>31140</td>\n",
       "      <td>27570</td>\n",
       "      <td>3570</td>\n",
       "      <td>...</td>\n",
       "      <td>87</td>\n",
       "      <td>0.15</td>\n",
       "      <td>0.15</td>\n",
       "      <td>-1141</td>\n",
       "      <td>29999</td>\n",
       "      <td>14189</td>\n",
       "      <td>0.15</td>\n",
       "      <td>54</td>\n",
       "      <td>65.19</td>\n",
       "      <td>sleep</td>\n",
       "    </tr>\n",
       "    <tr>\n",
       "      <th>4</th>\n",
       "      <td>2020-07-05</td>\n",
       "      <td>1</td>\n",
       "      <td>1</td>\n",
       "      <td>-420</td>\n",
       "      <td>2020-07-06T06:37:19-07:00</td>\n",
       "      <td>2020-07-05T23:05:19-07:00</td>\n",
       "      <td>16.375</td>\n",
       "      <td>27120</td>\n",
       "      <td>20730</td>\n",
       "      <td>6390</td>\n",
       "      <td>...</td>\n",
       "      <td>59</td>\n",
       "      <td>0.22</td>\n",
       "      <td>0.25</td>\n",
       "      <td>-3281</td>\n",
       "      <td>23839</td>\n",
       "      <td>10819</td>\n",
       "      <td>0.22</td>\n",
       "      <td>55</td>\n",
       "      <td>63.21</td>\n",
       "      <td>sleep</td>\n",
       "    </tr>\n",
       "    <tr>\n",
       "      <th>...</th>\n",
       "      <td>...</td>\n",
       "      <td>...</td>\n",
       "      <td>...</td>\n",
       "      <td>...</td>\n",
       "      <td>...</td>\n",
       "      <td>...</td>\n",
       "      <td>...</td>\n",
       "      <td>...</td>\n",
       "      <td>...</td>\n",
       "      <td>...</td>\n",
       "      <td>...</td>\n",
       "      <td>...</td>\n",
       "      <td>...</td>\n",
       "      <td>...</td>\n",
       "      <td>...</td>\n",
       "      <td>...</td>\n",
       "      <td>...</td>\n",
       "      <td>...</td>\n",
       "      <td>...</td>\n",
       "      <td>...</td>\n",
       "      <td>...</td>\n",
       "    </tr>\n",
       "    <tr>\n",
       "      <th>317</th>\n",
       "      <td>2021-05-20</td>\n",
       "      <td>0</td>\n",
       "      <td>1</td>\n",
       "      <td>-420</td>\n",
       "      <td>2021-05-21T05:24:28-07:00</td>\n",
       "      <td>2021-05-20T23:57:28-07:00</td>\n",
       "      <td>15.500</td>\n",
       "      <td>19620</td>\n",
       "      <td>18810</td>\n",
       "      <td>810</td>\n",
       "      <td>...</td>\n",
       "      <td>51</td>\n",
       "      <td>-0.41</td>\n",
       "      <td>0.00</td>\n",
       "      <td>-152</td>\n",
       "      <td>19468</td>\n",
       "      <td>9478</td>\n",
       "      <td>-0.41</td>\n",
       "      <td>54</td>\n",
       "      <td>58.28</td>\n",
       "      <td>sleep</td>\n",
       "    </tr>\n",
       "    <tr>\n",
       "      <th>318</th>\n",
       "      <td>2021-05-21</td>\n",
       "      <td>0</td>\n",
       "      <td>1</td>\n",
       "      <td>-420</td>\n",
       "      <td>2021-05-22T07:20:16-07:00</td>\n",
       "      <td>2021-05-21T23:25:16-07:00</td>\n",
       "      <td>15.875</td>\n",
       "      <td>28500</td>\n",
       "      <td>26970</td>\n",
       "      <td>1530</td>\n",
       "      <td>...</td>\n",
       "      <td>85</td>\n",
       "      <td>0.04</td>\n",
       "      <td>0.00</td>\n",
       "      <td>-2084</td>\n",
       "      <td>26416</td>\n",
       "      <td>11956</td>\n",
       "      <td>0.04</td>\n",
       "      <td>56</td>\n",
       "      <td>61.72</td>\n",
       "      <td>sleep</td>\n",
       "    </tr>\n",
       "    <tr>\n",
       "      <th>319</th>\n",
       "      <td>2021-05-22</td>\n",
       "      <td>0</td>\n",
       "      <td>1</td>\n",
       "      <td>-420</td>\n",
       "      <td>2021-05-23T07:21:00-07:00</td>\n",
       "      <td>2021-05-22T23:26:00-07:00</td>\n",
       "      <td>15.875</td>\n",
       "      <td>28500</td>\n",
       "      <td>26400</td>\n",
       "      <td>2100</td>\n",
       "      <td>...</td>\n",
       "      <td>82</td>\n",
       "      <td>0.03</td>\n",
       "      <td>0.04</td>\n",
       "      <td>-2040</td>\n",
       "      <td>26460</td>\n",
       "      <td>11850</td>\n",
       "      <td>0.03</td>\n",
       "      <td>57</td>\n",
       "      <td>63.47</td>\n",
       "      <td>sleep</td>\n",
       "    </tr>\n",
       "    <tr>\n",
       "      <th>320</th>\n",
       "      <td>2021-05-23</td>\n",
       "      <td>0</td>\n",
       "      <td>1</td>\n",
       "      <td>-420</td>\n",
       "      <td>2021-05-24T06:21:09-07:00</td>\n",
       "      <td>2021-05-23T23:27:09-07:00</td>\n",
       "      <td>15.750</td>\n",
       "      <td>24840</td>\n",
       "      <td>22230</td>\n",
       "      <td>2610</td>\n",
       "      <td>...</td>\n",
       "      <td>65</td>\n",
       "      <td>-0.10</td>\n",
       "      <td>0.07</td>\n",
       "      <td>-1971</td>\n",
       "      <td>22869</td>\n",
       "      <td>9999</td>\n",
       "      <td>-0.10</td>\n",
       "      <td>56</td>\n",
       "      <td>61.71</td>\n",
       "      <td>sleep</td>\n",
       "    </tr>\n",
       "    <tr>\n",
       "      <th>321</th>\n",
       "      <td>2021-05-24</td>\n",
       "      <td>0</td>\n",
       "      <td>1</td>\n",
       "      <td>-420</td>\n",
       "      <td>2021-05-25T07:26:02-07:00</td>\n",
       "      <td>2021-05-24T23:26:02-07:00</td>\n",
       "      <td>15.000</td>\n",
       "      <td>28800</td>\n",
       "      <td>24630</td>\n",
       "      <td>4170</td>\n",
       "      <td>...</td>\n",
       "      <td>75</td>\n",
       "      <td>-0.20</td>\n",
       "      <td>-0.02</td>\n",
       "      <td>-2038</td>\n",
       "      <td>26762</td>\n",
       "      <td>11972</td>\n",
       "      <td>-0.20</td>\n",
       "      <td>53</td>\n",
       "      <td>56.93</td>\n",
       "      <td>sleep</td>\n",
       "    </tr>\n",
       "  </tbody>\n",
       "</table>\n",
       "<p>322 rows × 38 columns</p>\n",
       "</div>"
      ],
      "text/plain": [
       "    summary_date  period_id  is_longest  timezone                bedtime_end  \\\n",
       "0     2020-07-01          0           1      -420  2020-07-02T07:37:03-07:00   \n",
       "1     2020-07-02          0           1      -420  2020-07-03T08:17:02-07:00   \n",
       "2     2020-07-03          0           1      -420  2020-07-04T08:27:29-07:00   \n",
       "3     2020-07-04          0           1      -420  2020-07-05T08:19:59-07:00   \n",
       "4     2020-07-05          1           1      -420  2020-07-06T06:37:19-07:00   \n",
       "..           ...        ...         ...       ...                        ...   \n",
       "317   2021-05-20          0           1      -420  2021-05-21T05:24:28-07:00   \n",
       "318   2021-05-21          0           1      -420  2021-05-22T07:20:16-07:00   \n",
       "319   2021-05-22          0           1      -420  2021-05-23T07:21:00-07:00   \n",
       "320   2021-05-23          0           1      -420  2021-05-24T06:21:09-07:00   \n",
       "321   2021-05-24          0           1      -420  2021-05-25T07:26:02-07:00   \n",
       "\n",
       "                 bedtime_start  breath_average  duration  total  awake  ...  \\\n",
       "0    2020-07-02T00:04:03-07:00          15.375     27180  23310   3870  ...   \n",
       "1    2020-07-03T00:24:02-07:00          15.375     28380  23910   4470  ...   \n",
       "2    2020-07-03T23:32:29-07:00          16.125     32100  30240   1860  ...   \n",
       "3    2020-07-04T23:40:59-07:00          16.375     31140  27570   3570  ...   \n",
       "4    2020-07-05T23:05:19-07:00          16.375     27120  20730   6390  ...   \n",
       "..                         ...             ...       ...    ...    ...  ...   \n",
       "317  2021-05-20T23:57:28-07:00          15.500     19620  18810    810  ...   \n",
       "318  2021-05-21T23:25:16-07:00          15.875     28500  26970   1530  ...   \n",
       "319  2021-05-22T23:26:00-07:00          15.875     28500  26400   2100  ...   \n",
       "320  2021-05-23T23:27:09-07:00          15.750     24840  22230   2610  ...   \n",
       "321  2021-05-24T23:26:02-07:00          15.000     28800  24630   4170  ...   \n",
       "\n",
       "     score_total  temperature_deviation  temperature_trend_deviation  \\\n",
       "0             70                  -0.16                        -0.04   \n",
       "1             72                   0.21                         0.08   \n",
       "2             96                  -0.17                         0.08   \n",
       "3             87                   0.15                         0.15   \n",
       "4             59                   0.22                         0.25   \n",
       "..           ...                    ...                          ...   \n",
       "317           51                  -0.41                         0.00   \n",
       "318           85                   0.04                         0.00   \n",
       "319           82                   0.03                         0.04   \n",
       "320           65                  -0.10                         0.07   \n",
       "321           75                  -0.20                        -0.02   \n",
       "\n",
       "     bedtime_start_delta  bedtime_end_delta  midpoint_at_delta  \\\n",
       "0                    243              27423              13113   \n",
       "1                   1442              29822              14432   \n",
       "2                  -1651              30449              14099   \n",
       "3                  -1141              29999              14189   \n",
       "4                  -3281              23839              10819   \n",
       "..                   ...                ...                ...   \n",
       "317                 -152              19468               9478   \n",
       "318                -2084              26416              11956   \n",
       "319                -2040              26460              11850   \n",
       "320                -1971              22869               9999   \n",
       "321                -2038              26762              11972   \n",
       "\n",
       "     temperature_delta hr_lowest  hr_average  activity_type  \n",
       "0                -0.16        55       59.24          sleep  \n",
       "1                 0.21        57       63.63          sleep  \n",
       "2                -0.17        55       61.42          sleep  \n",
       "3                 0.15        54       65.19          sleep  \n",
       "4                 0.22        55       63.21          sleep  \n",
       "..                 ...       ...         ...            ...  \n",
       "317              -0.41        54       58.28          sleep  \n",
       "318               0.04        56       61.72          sleep  \n",
       "319               0.03        57       63.47          sleep  \n",
       "320              -0.10        56       61.71          sleep  \n",
       "321              -0.20        53       56.93          sleep  \n",
       "\n",
       "[322 rows x 38 columns]"
      ]
     },
     "execution_count": 4,
     "metadata": {},
     "output_type": "execute_result"
    }
   ],
   "source": [
    "%%docker_data ghcr.io/dacort/crates-oura sleep\n",
    "-e OURA_PAT\n",
    "-e start=2020-07-01"
   ]
  },
  {
   "cell_type": "code",
   "execution_count": 5,
   "id": "6b2b03b5",
   "metadata": {},
   "outputs": [
    {
     "data": {
      "text/html": [
       "<div>\n",
       "<style scoped>\n",
       "    .dataframe tbody tr th:only-of-type {\n",
       "        vertical-align: middle;\n",
       "    }\n",
       "\n",
       "    .dataframe tbody tr th {\n",
       "        vertical-align: top;\n",
       "    }\n",
       "\n",
       "    .dataframe thead th {\n",
       "        text-align: right;\n",
       "    }\n",
       "</style>\n",
       "<table border=\"1\" class=\"dataframe\">\n",
       "  <thead>\n",
       "    <tr style=\"text-align: right;\">\n",
       "      <th></th>\n",
       "      <th>period_id</th>\n",
       "      <th>is_longest</th>\n",
       "      <th>timezone</th>\n",
       "      <th>breath_average</th>\n",
       "      <th>duration</th>\n",
       "      <th>total</th>\n",
       "      <th>awake</th>\n",
       "      <th>rem</th>\n",
       "      <th>deep</th>\n",
       "      <th>light</th>\n",
       "      <th>...</th>\n",
       "      <th>score_rem</th>\n",
       "      <th>score_total</th>\n",
       "      <th>temperature_deviation</th>\n",
       "      <th>temperature_trend_deviation</th>\n",
       "      <th>bedtime_start_delta</th>\n",
       "      <th>bedtime_end_delta</th>\n",
       "      <th>midpoint_at_delta</th>\n",
       "      <th>temperature_delta</th>\n",
       "      <th>hr_lowest</th>\n",
       "      <th>hr_average</th>\n",
       "    </tr>\n",
       "  </thead>\n",
       "  <tbody>\n",
       "    <tr>\n",
       "      <th>count</th>\n",
       "      <td>322.000000</td>\n",
       "      <td>322.0</td>\n",
       "      <td>322.000000</td>\n",
       "      <td>322.000000</td>\n",
       "      <td>322.000000</td>\n",
       "      <td>322.000000</td>\n",
       "      <td>322.000000</td>\n",
       "      <td>322.000000</td>\n",
       "      <td>322.000000</td>\n",
       "      <td>322.000000</td>\n",
       "      <td>...</td>\n",
       "      <td>322.000000</td>\n",
       "      <td>322.000000</td>\n",
       "      <td>322.000000</td>\n",
       "      <td>321.000000</td>\n",
       "      <td>322.000000</td>\n",
       "      <td>322.000000</td>\n",
       "      <td>322.000000</td>\n",
       "      <td>322.000000</td>\n",
       "      <td>322.000000</td>\n",
       "      <td>322.000000</td>\n",
       "    </tr>\n",
       "    <tr>\n",
       "      <th>mean</th>\n",
       "      <td>0.226708</td>\n",
       "      <td>1.0</td>\n",
       "      <td>-444.223602</td>\n",
       "      <td>15.694488</td>\n",
       "      <td>27623.478261</td>\n",
       "      <td>22383.633540</td>\n",
       "      <td>5239.844720</td>\n",
       "      <td>5687.608696</td>\n",
       "      <td>4704.875776</td>\n",
       "      <td>11991.149068</td>\n",
       "      <td>...</td>\n",
       "      <td>81.291925</td>\n",
       "      <td>65.804348</td>\n",
       "      <td>-0.009969</td>\n",
       "      <td>0.077601</td>\n",
       "      <td>-991.639752</td>\n",
       "      <td>26631.838509</td>\n",
       "      <td>12654.167702</td>\n",
       "      <td>-0.009969</td>\n",
       "      <td>57.307453</td>\n",
       "      <td>63.917391</td>\n",
       "    </tr>\n",
       "    <tr>\n",
       "      <th>std</th>\n",
       "      <td>0.506808</td>\n",
       "      <td>0.0</td>\n",
       "      <td>29.484454</td>\n",
       "      <td>0.386411</td>\n",
       "      <td>3523.311997</td>\n",
       "      <td>3048.484966</td>\n",
       "      <td>2343.953109</td>\n",
       "      <td>1497.637453</td>\n",
       "      <td>1339.582449</td>\n",
       "      <td>2263.716429</td>\n",
       "      <td>...</td>\n",
       "      <td>17.137756</td>\n",
       "      <td>12.495815</td>\n",
       "      <td>0.175968</td>\n",
       "      <td>0.112217</td>\n",
       "      <td>1877.587335</td>\n",
       "      <td>3268.591938</td>\n",
       "      <td>2110.125161</td>\n",
       "      <td>0.175968</td>\n",
       "      <td>2.964253</td>\n",
       "      <td>3.531511</td>\n",
       "    </tr>\n",
       "    <tr>\n",
       "      <th>min</th>\n",
       "      <td>0.000000</td>\n",
       "      <td>1.0</td>\n",
       "      <td>-480.000000</td>\n",
       "      <td>14.625000</td>\n",
       "      <td>15720.000000</td>\n",
       "      <td>11520.000000</td>\n",
       "      <td>810.000000</td>\n",
       "      <td>1500.000000</td>\n",
       "      <td>630.000000</td>\n",
       "      <td>5970.000000</td>\n",
       "      <td>...</td>\n",
       "      <td>22.000000</td>\n",
       "      <td>23.000000</td>\n",
       "      <td>-0.570000</td>\n",
       "      <td>-0.290000</td>\n",
       "      <td>-8877.000000</td>\n",
       "      <td>14704.000000</td>\n",
       "      <td>6359.000000</td>\n",
       "      <td>-0.570000</td>\n",
       "      <td>50.000000</td>\n",
       "      <td>54.800000</td>\n",
       "    </tr>\n",
       "    <tr>\n",
       "      <th>25%</th>\n",
       "      <td>0.000000</td>\n",
       "      <td>1.0</td>\n",
       "      <td>-480.000000</td>\n",
       "      <td>15.500000</td>\n",
       "      <td>26115.000000</td>\n",
       "      <td>20340.000000</td>\n",
       "      <td>3540.000000</td>\n",
       "      <td>4747.500000</td>\n",
       "      <td>3720.000000</td>\n",
       "      <td>10470.000000</td>\n",
       "      <td>...</td>\n",
       "      <td>71.000000</td>\n",
       "      <td>57.000000</td>\n",
       "      <td>-0.140000</td>\n",
       "      <td>0.000000</td>\n",
       "      <td>-2113.250000</td>\n",
       "      <td>25370.250000</td>\n",
       "      <td>11496.750000</td>\n",
       "      <td>-0.140000</td>\n",
       "      <td>55.250000</td>\n",
       "      <td>61.622500</td>\n",
       "    </tr>\n",
       "    <tr>\n",
       "      <th>50%</th>\n",
       "      <td>0.000000</td>\n",
       "      <td>1.0</td>\n",
       "      <td>-420.000000</td>\n",
       "      <td>15.750000</td>\n",
       "      <td>27960.000000</td>\n",
       "      <td>22590.000000</td>\n",
       "      <td>5100.000000</td>\n",
       "      <td>5730.000000</td>\n",
       "      <td>4650.000000</td>\n",
       "      <td>11940.000000</td>\n",
       "      <td>...</td>\n",
       "      <td>87.000000</td>\n",
       "      <td>67.000000</td>\n",
       "      <td>-0.005000</td>\n",
       "      <td>0.070000</td>\n",
       "      <td>-927.500000</td>\n",
       "      <td>26987.500000</td>\n",
       "      <td>12832.500000</td>\n",
       "      <td>-0.005000</td>\n",
       "      <td>57.000000</td>\n",
       "      <td>63.945000</td>\n",
       "    </tr>\n",
       "    <tr>\n",
       "      <th>75%</th>\n",
       "      <td>0.000000</td>\n",
       "      <td>1.0</td>\n",
       "      <td>-420.000000</td>\n",
       "      <td>15.875000</td>\n",
       "      <td>29580.000000</td>\n",
       "      <td>24472.500000</td>\n",
       "      <td>6720.000000</td>\n",
       "      <td>6510.000000</td>\n",
       "      <td>5610.000000</td>\n",
       "      <td>13620.000000</td>\n",
       "      <td>...</td>\n",
       "      <td>95.000000</td>\n",
       "      <td>74.000000</td>\n",
       "      <td>0.090000</td>\n",
       "      <td>0.150000</td>\n",
       "      <td>27.000000</td>\n",
       "      <td>28598.500000</td>\n",
       "      <td>13954.250000</td>\n",
       "      <td>0.090000</td>\n",
       "      <td>59.000000</td>\n",
       "      <td>66.047500</td>\n",
       "    </tr>\n",
       "    <tr>\n",
       "      <th>max</th>\n",
       "      <td>4.000000</td>\n",
       "      <td>1.0</td>\n",
       "      <td>-420.000000</td>\n",
       "      <td>17.500000</td>\n",
       "      <td>37440.000000</td>\n",
       "      <td>31980.000000</td>\n",
       "      <td>13140.000000</td>\n",
       "      <td>9750.000000</td>\n",
       "      <td>9210.000000</td>\n",
       "      <td>17670.000000</td>\n",
       "      <td>...</td>\n",
       "      <td>100.000000</td>\n",
       "      <td>99.000000</td>\n",
       "      <td>0.520000</td>\n",
       "      <td>0.370000</td>\n",
       "      <td>5079.000000</td>\n",
       "      <td>32789.000000</td>\n",
       "      <td>17593.000000</td>\n",
       "      <td>0.520000</td>\n",
       "      <td>68.000000</td>\n",
       "      <td>75.480000</td>\n",
       "    </tr>\n",
       "  </tbody>\n",
       "</table>\n",
       "<p>8 rows × 32 columns</p>\n",
       "</div>"
      ],
      "text/plain": [
       "        period_id  is_longest    timezone  breath_average      duration  \\\n",
       "count  322.000000       322.0  322.000000      322.000000    322.000000   \n",
       "mean     0.226708         1.0 -444.223602       15.694488  27623.478261   \n",
       "std      0.506808         0.0   29.484454        0.386411   3523.311997   \n",
       "min      0.000000         1.0 -480.000000       14.625000  15720.000000   \n",
       "25%      0.000000         1.0 -480.000000       15.500000  26115.000000   \n",
       "50%      0.000000         1.0 -420.000000       15.750000  27960.000000   \n",
       "75%      0.000000         1.0 -420.000000       15.875000  29580.000000   \n",
       "max      4.000000         1.0 -420.000000       17.500000  37440.000000   \n",
       "\n",
       "              total         awake          rem         deep         light  \\\n",
       "count    322.000000    322.000000   322.000000   322.000000    322.000000   \n",
       "mean   22383.633540   5239.844720  5687.608696  4704.875776  11991.149068   \n",
       "std     3048.484966   2343.953109  1497.637453  1339.582449   2263.716429   \n",
       "min    11520.000000    810.000000  1500.000000   630.000000   5970.000000   \n",
       "25%    20340.000000   3540.000000  4747.500000  3720.000000  10470.000000   \n",
       "50%    22590.000000   5100.000000  5730.000000  4650.000000  11940.000000   \n",
       "75%    24472.500000   6720.000000  6510.000000  5610.000000  13620.000000   \n",
       "max    31980.000000  13140.000000  9750.000000  9210.000000  17670.000000   \n",
       "\n",
       "       ...   score_rem  score_total  temperature_deviation  \\\n",
       "count  ...  322.000000   322.000000             322.000000   \n",
       "mean   ...   81.291925    65.804348              -0.009969   \n",
       "std    ...   17.137756    12.495815               0.175968   \n",
       "min    ...   22.000000    23.000000              -0.570000   \n",
       "25%    ...   71.000000    57.000000              -0.140000   \n",
       "50%    ...   87.000000    67.000000              -0.005000   \n",
       "75%    ...   95.000000    74.000000               0.090000   \n",
       "max    ...  100.000000    99.000000               0.520000   \n",
       "\n",
       "       temperature_trend_deviation  bedtime_start_delta  bedtime_end_delta  \\\n",
       "count                   321.000000           322.000000         322.000000   \n",
       "mean                      0.077601          -991.639752       26631.838509   \n",
       "std                       0.112217          1877.587335        3268.591938   \n",
       "min                      -0.290000         -8877.000000       14704.000000   \n",
       "25%                       0.000000         -2113.250000       25370.250000   \n",
       "50%                       0.070000          -927.500000       26987.500000   \n",
       "75%                       0.150000            27.000000       28598.500000   \n",
       "max                       0.370000          5079.000000       32789.000000   \n",
       "\n",
       "       midpoint_at_delta  temperature_delta   hr_lowest  hr_average  \n",
       "count         322.000000         322.000000  322.000000  322.000000  \n",
       "mean        12654.167702          -0.009969   57.307453   63.917391  \n",
       "std          2110.125161           0.175968    2.964253    3.531511  \n",
       "min          6359.000000          -0.570000   50.000000   54.800000  \n",
       "25%         11496.750000          -0.140000   55.250000   61.622500  \n",
       "50%         12832.500000          -0.005000   57.000000   63.945000  \n",
       "75%         13954.250000           0.090000   59.000000   66.047500  \n",
       "max         17593.000000           0.520000   68.000000   75.480000  \n",
       "\n",
       "[8 rows x 32 columns]"
      ]
     },
     "execution_count": 5,
     "metadata": {},
     "output_type": "execute_result"
    }
   ],
   "source": [
    "df = _\n",
    "df.describe()"
   ]
  },
  {
   "cell_type": "markdown",
   "id": "3faec3b8",
   "metadata": {},
   "source": [
    "## Summarize data by month"
   ]
  },
  {
   "cell_type": "code",
   "execution_count": 6,
   "id": "4c434092",
   "metadata": {},
   "outputs": [
    {
     "data": {
      "text/plain": [
       "summary_date\n",
       "2020-07-31    20723.793103\n",
       "2020-08-31    20672.903226\n",
       "2020-09-30    22339.000000\n",
       "2020-10-31    22789.000000\n",
       "2020-11-30    21731.000000\n",
       "2020-12-31    23755.862069\n",
       "2021-01-31    23049.677419\n",
       "2021-02-28    22135.555556\n",
       "2021-03-31    22291.935484\n",
       "2021-04-30    23185.000000\n",
       "2021-05-31    23841.250000\n",
       "Freq: M, Name: total, dtype: float64"
      ]
     },
     "execution_count": 6,
     "metadata": {},
     "output_type": "execute_result"
    }
   ],
   "source": [
    "import pandas\n",
    "\n",
    "df.index = pandas.to_datetime(df['summary_date'],format='%Y-%m-%d')\n",
    "dfGrouped = df.groupby(pandas.Grouper(freq='M')).mean()\n",
    "dfGrouped.total"
   ]
  },
  {
   "cell_type": "code",
   "execution_count": 7,
   "id": "95208253",
   "metadata": {},
   "outputs": [
    {
     "data": {
      "text/plain": [
       "['Jul 2020',\n",
       " 'Aug 2020',\n",
       " 'Sep 2020',\n",
       " 'Oct 2020',\n",
       " 'Nov 2020',\n",
       " 'Dec 2020',\n",
       " 'Jan 2021',\n",
       " 'Feb 2021',\n",
       " 'Mar 2021',\n",
       " 'Apr 2021',\n",
       " 'May 2021']"
      ]
     },
     "execution_count": 7,
     "metadata": {},
     "output_type": "execute_result"
    }
   ],
   "source": [
    "dfGrouped.index.strftime(\"%b %Y\").tolist()"
   ]
  },
  {
   "cell_type": "code",
   "execution_count": 8,
   "id": "198fc9e8",
   "metadata": {},
   "outputs": [
    {
     "data": {
      "text/plain": [
       "[5.76, 5.74, 6.21, 6.33, 6.04, 6.6, 6.4, 6.15, 6.19, 6.44, 6.62]"
      ]
     },
     "execution_count": 8,
     "metadata": {},
     "output_type": "execute_result"
    }
   ],
   "source": [
    "(dfGrouped.total/60/60).round(2).tolist()"
   ]
  },
  {
   "cell_type": "markdown",
   "id": "7bc37d76",
   "metadata": {},
   "source": [
    "## Draw a chart!"
   ]
  },
  {
   "cell_type": "code",
   "execution_count": 9,
   "id": "81473a5a",
   "metadata": {},
   "outputs": [
    {
     "data": {
      "application/vnd.plotly.v1+json": {
       "config": {
        "plotlyServerURL": "https://plot.ly"
       },
       "data": [
        {
         "mode": "lines",
         "name": "Total Sleep",
         "type": "scatter",
         "x": [
          "Jul 2020",
          "Aug 2020",
          "Sep 2020",
          "Oct 2020",
          "Nov 2020",
          "Dec 2020",
          "Jan 2021",
          "Feb 2021",
          "Mar 2021",
          "Apr 2021",
          "May 2021"
         ],
         "y": [
          5.76,
          5.74,
          6.21,
          6.33,
          6.04,
          6.6,
          6.4,
          6.15,
          6.19,
          6.44,
          6.62
         ]
        },
        {
         "mode": "lines",
         "name": "Awake",
         "type": "scatter",
         "x": [
          "Jul 2020",
          "Aug 2020",
          "Sep 2020",
          "Oct 2020",
          "Nov 2020",
          "Dec 2020",
          "Jan 2021",
          "Feb 2021",
          "Mar 2021",
          "Apr 2021",
          "May 2021"
         ],
         "y": [
          1.68,
          1.57,
          1.58,
          1.54,
          1.68,
          1.63,
          1.52,
          1.53,
          1.25,
          1.09,
          0.85
         ]
        }
       ],
       "layout": {
        "autosize": false,
        "height": 450,
        "legend": {
         "x": 1,
         "xanchor": "right",
         "y": 1.1,
         "yanchor": "bottom"
        },
        "margin": {
         "l": 0
        },
        "template": {
         "data": {
          "bar": [
           {
            "error_x": {
             "color": "#2a3f5f"
            },
            "error_y": {
             "color": "#2a3f5f"
            },
            "marker": {
             "line": {
              "color": "white",
              "width": 0.5
             }
            },
            "type": "bar"
           }
          ],
          "barpolar": [
           {
            "marker": {
             "line": {
              "color": "white",
              "width": 0.5
             }
            },
            "type": "barpolar"
           }
          ],
          "carpet": [
           {
            "aaxis": {
             "endlinecolor": "#2a3f5f",
             "gridcolor": "#C8D4E3",
             "linecolor": "#C8D4E3",
             "minorgridcolor": "#C8D4E3",
             "startlinecolor": "#2a3f5f"
            },
            "baxis": {
             "endlinecolor": "#2a3f5f",
             "gridcolor": "#C8D4E3",
             "linecolor": "#C8D4E3",
             "minorgridcolor": "#C8D4E3",
             "startlinecolor": "#2a3f5f"
            },
            "type": "carpet"
           }
          ],
          "choropleth": [
           {
            "colorbar": {
             "outlinewidth": 0,
             "ticks": ""
            },
            "type": "choropleth"
           }
          ],
          "contour": [
           {
            "colorbar": {
             "outlinewidth": 0,
             "ticks": ""
            },
            "colorscale": [
             [
              0,
              "#0d0887"
             ],
             [
              0.1111111111111111,
              "#46039f"
             ],
             [
              0.2222222222222222,
              "#7201a8"
             ],
             [
              0.3333333333333333,
              "#9c179e"
             ],
             [
              0.4444444444444444,
              "#bd3786"
             ],
             [
              0.5555555555555556,
              "#d8576b"
             ],
             [
              0.6666666666666666,
              "#ed7953"
             ],
             [
              0.7777777777777778,
              "#fb9f3a"
             ],
             [
              0.8888888888888888,
              "#fdca26"
             ],
             [
              1,
              "#f0f921"
             ]
            ],
            "type": "contour"
           }
          ],
          "contourcarpet": [
           {
            "colorbar": {
             "outlinewidth": 0,
             "ticks": ""
            },
            "type": "contourcarpet"
           }
          ],
          "heatmap": [
           {
            "colorbar": {
             "outlinewidth": 0,
             "ticks": ""
            },
            "colorscale": [
             [
              0,
              "#0d0887"
             ],
             [
              0.1111111111111111,
              "#46039f"
             ],
             [
              0.2222222222222222,
              "#7201a8"
             ],
             [
              0.3333333333333333,
              "#9c179e"
             ],
             [
              0.4444444444444444,
              "#bd3786"
             ],
             [
              0.5555555555555556,
              "#d8576b"
             ],
             [
              0.6666666666666666,
              "#ed7953"
             ],
             [
              0.7777777777777778,
              "#fb9f3a"
             ],
             [
              0.8888888888888888,
              "#fdca26"
             ],
             [
              1,
              "#f0f921"
             ]
            ],
            "type": "heatmap"
           }
          ],
          "heatmapgl": [
           {
            "colorbar": {
             "outlinewidth": 0,
             "ticks": ""
            },
            "colorscale": [
             [
              0,
              "#0d0887"
             ],
             [
              0.1111111111111111,
              "#46039f"
             ],
             [
              0.2222222222222222,
              "#7201a8"
             ],
             [
              0.3333333333333333,
              "#9c179e"
             ],
             [
              0.4444444444444444,
              "#bd3786"
             ],
             [
              0.5555555555555556,
              "#d8576b"
             ],
             [
              0.6666666666666666,
              "#ed7953"
             ],
             [
              0.7777777777777778,
              "#fb9f3a"
             ],
             [
              0.8888888888888888,
              "#fdca26"
             ],
             [
              1,
              "#f0f921"
             ]
            ],
            "type": "heatmapgl"
           }
          ],
          "histogram": [
           {
            "marker": {
             "colorbar": {
              "outlinewidth": 0,
              "ticks": ""
             }
            },
            "type": "histogram"
           }
          ],
          "histogram2d": [
           {
            "colorbar": {
             "outlinewidth": 0,
             "ticks": ""
            },
            "colorscale": [
             [
              0,
              "#0d0887"
             ],
             [
              0.1111111111111111,
              "#46039f"
             ],
             [
              0.2222222222222222,
              "#7201a8"
             ],
             [
              0.3333333333333333,
              "#9c179e"
             ],
             [
              0.4444444444444444,
              "#bd3786"
             ],
             [
              0.5555555555555556,
              "#d8576b"
             ],
             [
              0.6666666666666666,
              "#ed7953"
             ],
             [
              0.7777777777777778,
              "#fb9f3a"
             ],
             [
              0.8888888888888888,
              "#fdca26"
             ],
             [
              1,
              "#f0f921"
             ]
            ],
            "type": "histogram2d"
           }
          ],
          "histogram2dcontour": [
           {
            "colorbar": {
             "outlinewidth": 0,
             "ticks": ""
            },
            "colorscale": [
             [
              0,
              "#0d0887"
             ],
             [
              0.1111111111111111,
              "#46039f"
             ],
             [
              0.2222222222222222,
              "#7201a8"
             ],
             [
              0.3333333333333333,
              "#9c179e"
             ],
             [
              0.4444444444444444,
              "#bd3786"
             ],
             [
              0.5555555555555556,
              "#d8576b"
             ],
             [
              0.6666666666666666,
              "#ed7953"
             ],
             [
              0.7777777777777778,
              "#fb9f3a"
             ],
             [
              0.8888888888888888,
              "#fdca26"
             ],
             [
              1,
              "#f0f921"
             ]
            ],
            "type": "histogram2dcontour"
           }
          ],
          "mesh3d": [
           {
            "colorbar": {
             "outlinewidth": 0,
             "ticks": ""
            },
            "type": "mesh3d"
           }
          ],
          "parcoords": [
           {
            "line": {
             "colorbar": {
              "outlinewidth": 0,
              "ticks": ""
             }
            },
            "type": "parcoords"
           }
          ],
          "pie": [
           {
            "automargin": true,
            "type": "pie"
           }
          ],
          "scatter": [
           {
            "marker": {
             "colorbar": {
              "outlinewidth": 0,
              "ticks": ""
             }
            },
            "type": "scatter"
           }
          ],
          "scatter3d": [
           {
            "line": {
             "colorbar": {
              "outlinewidth": 0,
              "ticks": ""
             }
            },
            "marker": {
             "colorbar": {
              "outlinewidth": 0,
              "ticks": ""
             }
            },
            "type": "scatter3d"
           }
          ],
          "scattercarpet": [
           {
            "marker": {
             "colorbar": {
              "outlinewidth": 0,
              "ticks": ""
             }
            },
            "type": "scattercarpet"
           }
          ],
          "scattergeo": [
           {
            "marker": {
             "colorbar": {
              "outlinewidth": 0,
              "ticks": ""
             }
            },
            "type": "scattergeo"
           }
          ],
          "scattergl": [
           {
            "marker": {
             "colorbar": {
              "outlinewidth": 0,
              "ticks": ""
             }
            },
            "type": "scattergl"
           }
          ],
          "scattermapbox": [
           {
            "marker": {
             "colorbar": {
              "outlinewidth": 0,
              "ticks": ""
             }
            },
            "type": "scattermapbox"
           }
          ],
          "scatterpolar": [
           {
            "marker": {
             "colorbar": {
              "outlinewidth": 0,
              "ticks": ""
             }
            },
            "type": "scatterpolar"
           }
          ],
          "scatterpolargl": [
           {
            "marker": {
             "colorbar": {
              "outlinewidth": 0,
              "ticks": ""
             }
            },
            "type": "scatterpolargl"
           }
          ],
          "scatterternary": [
           {
            "marker": {
             "colorbar": {
              "outlinewidth": 0,
              "ticks": ""
             }
            },
            "type": "scatterternary"
           }
          ],
          "surface": [
           {
            "colorbar": {
             "outlinewidth": 0,
             "ticks": ""
            },
            "colorscale": [
             [
              0,
              "#0d0887"
             ],
             [
              0.1111111111111111,
              "#46039f"
             ],
             [
              0.2222222222222222,
              "#7201a8"
             ],
             [
              0.3333333333333333,
              "#9c179e"
             ],
             [
              0.4444444444444444,
              "#bd3786"
             ],
             [
              0.5555555555555556,
              "#d8576b"
             ],
             [
              0.6666666666666666,
              "#ed7953"
             ],
             [
              0.7777777777777778,
              "#fb9f3a"
             ],
             [
              0.8888888888888888,
              "#fdca26"
             ],
             [
              1,
              "#f0f921"
             ]
            ],
            "type": "surface"
           }
          ],
          "table": [
           {
            "cells": {
             "fill": {
              "color": "#EBF0F8"
             },
             "line": {
              "color": "white"
             }
            },
            "header": {
             "fill": {
              "color": "#C8D4E3"
             },
             "line": {
              "color": "white"
             }
            },
            "type": "table"
           }
          ]
         },
         "layout": {
          "annotationdefaults": {
           "arrowcolor": "#2a3f5f",
           "arrowhead": 0,
           "arrowwidth": 1
          },
          "coloraxis": {
           "colorbar": {
            "outlinewidth": 0,
            "ticks": ""
           }
          },
          "colorscale": {
           "diverging": [
            [
             0,
             "#8e0152"
            ],
            [
             0.1,
             "#c51b7d"
            ],
            [
             0.2,
             "#de77ae"
            ],
            [
             0.3,
             "#f1b6da"
            ],
            [
             0.4,
             "#fde0ef"
            ],
            [
             0.5,
             "#f7f7f7"
            ],
            [
             0.6,
             "#e6f5d0"
            ],
            [
             0.7,
             "#b8e186"
            ],
            [
             0.8,
             "#7fbc41"
            ],
            [
             0.9,
             "#4d9221"
            ],
            [
             1,
             "#276419"
            ]
           ],
           "sequential": [
            [
             0,
             "#0d0887"
            ],
            [
             0.1111111111111111,
             "#46039f"
            ],
            [
             0.2222222222222222,
             "#7201a8"
            ],
            [
             0.3333333333333333,
             "#9c179e"
            ],
            [
             0.4444444444444444,
             "#bd3786"
            ],
            [
             0.5555555555555556,
             "#d8576b"
            ],
            [
             0.6666666666666666,
             "#ed7953"
            ],
            [
             0.7777777777777778,
             "#fb9f3a"
            ],
            [
             0.8888888888888888,
             "#fdca26"
            ],
            [
             1,
             "#f0f921"
            ]
           ],
           "sequentialminus": [
            [
             0,
             "#0d0887"
            ],
            [
             0.1111111111111111,
             "#46039f"
            ],
            [
             0.2222222222222222,
             "#7201a8"
            ],
            [
             0.3333333333333333,
             "#9c179e"
            ],
            [
             0.4444444444444444,
             "#bd3786"
            ],
            [
             0.5555555555555556,
             "#d8576b"
            ],
            [
             0.6666666666666666,
             "#ed7953"
            ],
            [
             0.7777777777777778,
             "#fb9f3a"
            ],
            [
             0.8888888888888888,
             "#fdca26"
            ],
            [
             1,
             "#f0f921"
            ]
           ]
          },
          "colorway": [
           "#636efa",
           "#EF553B",
           "#00cc96",
           "#ab63fa",
           "#FFA15A",
           "#19d3f3",
           "#FF6692",
           "#B6E880",
           "#FF97FF",
           "#FECB52"
          ],
          "font": {
           "color": "#2a3f5f"
          },
          "geo": {
           "bgcolor": "white",
           "lakecolor": "white",
           "landcolor": "white",
           "showlakes": true,
           "showland": true,
           "subunitcolor": "#C8D4E3"
          },
          "hoverlabel": {
           "align": "left"
          },
          "hovermode": "closest",
          "mapbox": {
           "style": "light"
          },
          "paper_bgcolor": "white",
          "plot_bgcolor": "white",
          "polar": {
           "angularaxis": {
            "gridcolor": "#EBF0F8",
            "linecolor": "#EBF0F8",
            "ticks": ""
           },
           "bgcolor": "white",
           "radialaxis": {
            "gridcolor": "#EBF0F8",
            "linecolor": "#EBF0F8",
            "ticks": ""
           }
          },
          "scene": {
           "xaxis": {
            "backgroundcolor": "white",
            "gridcolor": "#DFE8F3",
            "gridwidth": 2,
            "linecolor": "#EBF0F8",
            "showbackground": true,
            "ticks": "",
            "zerolinecolor": "#EBF0F8"
           },
           "yaxis": {
            "backgroundcolor": "white",
            "gridcolor": "#DFE8F3",
            "gridwidth": 2,
            "linecolor": "#EBF0F8",
            "showbackground": true,
            "ticks": "",
            "zerolinecolor": "#EBF0F8"
           },
           "zaxis": {
            "backgroundcolor": "white",
            "gridcolor": "#DFE8F3",
            "gridwidth": 2,
            "linecolor": "#EBF0F8",
            "showbackground": true,
            "ticks": "",
            "zerolinecolor": "#EBF0F8"
           }
          },
          "shapedefaults": {
           "line": {
            "color": "#2a3f5f"
           }
          },
          "ternary": {
           "aaxis": {
            "gridcolor": "#DFE8F3",
            "linecolor": "#A2B1C6",
            "ticks": ""
           },
           "baxis": {
            "gridcolor": "#DFE8F3",
            "linecolor": "#A2B1C6",
            "ticks": ""
           },
           "bgcolor": "white",
           "caxis": {
            "gridcolor": "#DFE8F3",
            "linecolor": "#A2B1C6",
            "ticks": ""
           }
          },
          "title": {
           "x": 0.05
          },
          "xaxis": {
           "automargin": true,
           "gridcolor": "#EBF0F8",
           "linecolor": "#EBF0F8",
           "ticks": "",
           "title": {
            "standoff": 15
           },
           "zerolinecolor": "#EBF0F8",
           "zerolinewidth": 2
          },
          "yaxis": {
           "automargin": true,
           "gridcolor": "#EBF0F8",
           "linecolor": "#EBF0F8",
           "ticks": "",
           "title": {
            "standoff": 15
           },
           "zerolinecolor": "#EBF0F8",
           "zerolinewidth": 2
          }
         }
        },
        "title": {
         "text": "Average Sleep per Night (hrs)"
        },
        "width": 825,
        "xaxis": {
         "autorange": true,
         "range": [
          0,
          10
         ],
         "title": {
          "text": "Month"
         },
         "type": "category"
        },
        "yaxis": {
         "autorange": true,
         "range": [
          0.5294444444444444,
          6.940555555555556
         ],
         "title": {
          "text": "Hours"
         },
         "type": "linear"
        }
       }
      },
      "image/png": "[encoded data removed]"
     },
     "metadata": {},
     "output_type": "display_data"
    }
   ],
   "source": [
    "import plotly.offline as py\n",
    "import plotly.graph_objects as go\n",
    "\n",
    "# Create traces\n",
    "fig = go.Figure()\n",
    "fig.add_trace(go.Scatter(x=dfGrouped.index.strftime(\"%b %Y\").tolist(), y=(dfGrouped.total/60/60).round(2).tolist(),\n",
    "                    mode='lines',\n",
    "                    name='Total Sleep'))\n",
    "fig.add_trace(go.Scatter(x=dfGrouped.index.strftime(\"%b %Y\").tolist(), y=(dfGrouped.awake/60/60).round(2).tolist(),\n",
    "                    mode='lines',\n",
    "                    name='Awake'))\n",
    "\n",
    "# fig.show()\n",
    "#py.iplot(fig)\n",
    "# Add title, x axis label, and specify template which is defined above \n",
    "fig.update_layout(title='Average Sleep per Night (hrs)',\n",
    "                  xaxis_title='Month',\n",
    "                  yaxis_title='Hours',\n",
    "                  template='plotly_white',\n",
    "                  margin_l=0,\n",
    "                  width=825,\n",
    "                  autosize=False,\n",
    "                  legend=dict(\n",
    "                    yanchor=\"bottom\",\n",
    "                    y=1.1,\n",
    "                    xanchor=\"right\",\n",
    "                    x=1\n",
    "                ))\n",
    "\n",
    "# Use jupyterlab renderer for great exporting\n",
    "fig.show(renderer=\"jupyterlab\")"
   ]
  }
 ],
 "metadata": {
  "kernelspec": {
   "display_name": "Python 3",
   "language": "python",
   "name": "python3"
  },
  "language_info": {
   "codemirror_mode": {
    "name": "ipython",
    "version": 3
   },
   "file_extension": ".py",
   "mimetype": "text/x-python",
   "name": "python",
   "nbconvert_exporter": "python",
   "pygments_lexer": "ipython3",
   "version": "3.7.4"
  }
 },
 "nbformat": 4,
 "nbformat_minor": 5
}
